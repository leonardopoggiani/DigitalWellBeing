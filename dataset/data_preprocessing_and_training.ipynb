{
  "nbformat": 4,
  "nbformat_minor": 0,
  "metadata": {
    "colab": {
      "name": "data_preprocessing_and_training.ipynb",
      "provenance": [],
      "collapsed_sections": []
    },
    "kernelspec": {
      "name": "python3",
      "display_name": "Python 3"
    },
    "language_info": {
      "name": "python"
    }
  },
  "cells": [
    {
      "cell_type": "code",
      "execution_count": 1,
      "metadata": {
        "id": "q4N_SNq7G7G9"
      },
      "outputs": [],
      "source": [
        "import tensorflow as tf\n",
        "\n",
        "from tensorflow.keras import datasets, layers, models\n",
        "import matplotlib.pyplot as plt\n",
        "import pandas as pd\n",
        "from sklearn.model_selection import train_test_split\n",
        "import numpy as np\n",
        "from tensorflow.keras.optimizers import SGD, Adam\n",
        "from google.colab import files\n",
        "\n",
        "# display results to 3 decimal points, not in scientific notation\n",
        "pd.set_option('display.float_format', lambda x: '%.3f' % x)"
      ]
    },
    {
      "cell_type": "code",
      "source": [
        "uploaded = files.upload()"
      ],
      "metadata": {
        "id": "IYeVd2AK8cN9",
        "colab": {
          "base_uri": "https://localhost:8080/",
          "height": 93,
          "resources": {
            "http://localhost:8080/nbextensions/google.colab/files.js": {
              "data": "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",
              "ok": true,
              "headers": [
                [
                  "content-type",
                  "application/javascript"
                ]
              ],
              "status": 200,
              "status_text": "OK"
            }
          }
        },
        "outputId": "057b9dd2-f6ac-417b-e399-5b18f9bf6b94"
      },
      "execution_count": null,
      "outputs": [
        {
          "output_type": "display_data",
          "data": {
            "text/plain": [
              "<IPython.core.display.HTML object>"
            ],
            "text/html": [
              "\n",
              "     <input type=\"file\" id=\"files-3aef084c-cdc5-4eb6-9541-f6d01797e4b3\" name=\"files[]\" multiple disabled\n",
              "        style=\"border:none\" />\n",
              "     <output id=\"result-3aef084c-cdc5-4eb6-9541-f6d01797e4b3\">\n",
              "      Upload widget is only available when the cell has been executed in the\n",
              "      current browser session. Please rerun this cell to enable.\n",
              "      </output>\n",
              "      <script src=\"/nbextensions/google.colab/files.js\"></script> "
            ]
          },
          "metadata": {}
        }
      ]
    },
    {
      "cell_type": "markdown",
      "source": [
        "# Data Pre-processing\n",
        "Abbiamo pre-processato i dati andando ad eliminare i primi 2 secondi di dati in quanto abbiamo ritenuto non fossero direttamente collegati all'attivitá di estrazione o riposizionamento del telefono dalla tasca. \n",
        "Abbiamo inoltre sostituito la label con un formato numerico, piú adatto alla rete neurale rispetto alla stringa, formato piú human-readable."
      ],
      "metadata": {
        "id": "7TtIfaJ91nJ3"
      }
    },
    {
      "cell_type": "code",
      "source": [
        "accelerometer = pd.read_csv(\"SensorData_Acc_0.csv\")\n",
        "gyroscope = pd.read_csv(\"SensorData_Gyr_0.csv\")\n",
        "rotation = pd.read_csv(\"SensorData_Rot_0.csv\")\n",
        "gravity = pd.read_csv(\"SensorData_Grav_0.csv\")\n",
        "linearAcceleration = pd.read_csv(\"SensorData_LinAcc_0.csv\")\n",
        "magnetic = pd.read_csv(\"SensorData_Mag_0.csv\")\n",
        "\n",
        "del accelerometer[\"Unnamed: 5\"]\n",
        "del gyroscope[\"Unnamed: 5\"]\n",
        "del rotation[\"Unnamed: 5\"]\n",
        "del gravity[\"Unnamed: 5\"]\n",
        "del linearAcceleration[\"Unnamed: 5\"]\n",
        "del magnetic[\"Unnamed: 5\"]\n",
        "\n",
        "accelerometer.columns = [\"acceleration-x\", \"acceleration-y\", \"acceleration-z\", \"timestamp\", \"label\"]\n",
        "accelerometer.index = accelerometer[\"timestamp\"]\n",
        "\n",
        "gyroscope.columns = [\"gyroscope-x\", \"gyroscope-y\", \"gyroscope-z\", \"timestamp\", \"label\"]\n",
        "gyroscope.index = gyroscope[\"timestamp\"]\n",
        "\n",
        "gravity.columns = [\"gravity-x\", \"gravity-y\", \"gravity-z\", \"timestamp\", \"label\"]\n",
        "gravity.index = gravity[\"timestamp\"]\n",
        "\n",
        "rotation.columns = [\"rotation-x\", \"rotation-y\", \"rotation-z\", \"timestamp\", \"label\"]\n",
        "rotation.index = rotation[\"timestamp\"]\n",
        "\n",
        "magnetic.columns = [\"magnetic-x\", \"magnetic-y\", \"magnetic-z\", \"timestamp\", \"label\"]\n",
        "magnetic.index = magnetic[\"timestamp\"]\n",
        "\n",
        "linearAcceleration.columns = [\"linearAcceleration-x\", \"linearAcceleration-y\", \"linearAcceleration-z\", \"timestamp\", \"label\"]\n",
        "linearAcceleration.index = linearAcceleration[\"timestamp\"]\n",
        "\n",
        "del accelerometer[\"timestamp\"]\n",
        "del gyroscope[\"timestamp\"]\n",
        "del gyroscope[\"label\"]\n",
        "del gravity[\"timestamp\"]\n",
        "del gravity[\"label\"]\n",
        "del linearAcceleration[\"timestamp\"]\n",
        "del linearAcceleration[\"label\"]\n",
        "del rotation[\"timestamp\"]\n",
        "del rotation[\"label\"]\n",
        "del magnetic[\"timestamp\"]\n",
        "del magnetic[\"label\"]\n",
        "\n",
        "merged = pd.merge(accelerometer, gyroscope, left_index=True, right_index=True)\n",
        "merged = pd.merge(merged, linearAcceleration, left_index=True, right_index=True)\n",
        "merged = pd.merge(merged, gravity, left_index=True, right_index=True)\n",
        "merged = pd.merge(merged, magnetic, left_index=True, right_index=True)\n",
        "merged = pd.merge(merged, rotation, left_index=True, right_index=True)\n",
        "\n",
        "merged.to_csv(\"merged.csv\")\n",
        "\n",
        "# 50 hz sampling rate, 600 sample/seconds, discard first two seconds of data\n",
        "N = 1000 \n",
        "merged = merged.iloc[N: , :]\n",
        " \n",
        "# Removing last n rows\n",
        "merged = merged.iloc[:-N]\n",
        "\n",
        "print(f\"OTHER values {len(merged[(merged['label']=='OTHER')])}\\n\")\n",
        "print(f\"PICKUP values {len(merged[(merged['label']=='PICKUP')])}\\n\")\n",
        "\n",
        "print(f\"OTHER values are { (len(merged[(merged['label']=='OTHER')]) / len(merged)) * 100}% of the data\\n\")\n",
        "print(f\"PICKUP values are { (len(merged[(merged['label']=='PICKUP')]) / len(merged)) * 100}% of the data\\n\")\n",
        "\n",
        "print(merged.shape)\n",
        "\n",
        "mapping = {'PICKUP': 0, 'OTHER': 1}\n",
        "merged.replace({'label': mapping})\n",
        "\n",
        "merged.label = [mapping[item] for item in merged.label]\n",
        "\n",
        "print(merged)\n",
        "\n",
        "training_data, testing_data = train_test_split(merged, test_size=0.25, random_state=25)\n",
        "\n",
        "training_labels = training_data[\"label\"]\n",
        "del training_data[\"label\"]\n",
        "\n",
        "testing_labels = testing_data[\"label\"]\n",
        "del testing_data[\"label\"]\n",
        "\n",
        "print(f\"No. of training examples: {training_data.shape[0]}\")\n",
        "print(f\"No. of testing examples: {testing_data.shape[0]}\")\n",
        "\n",
        "print(f\"Training shape: {training_data.shape}\")\n",
        "\n",
        "training_data = np.asarray(training_data).astype('float32')\n",
        "training_labels = np.asarray(training_labels).astype('float32')\n",
        "testing_data = np.asarray(testing_data).astype('float32')\n",
        "testing_labels = np.asarray(testing_labels).astype('float32')"
      ],
      "metadata": {
        "colab": {
          "base_uri": "https://localhost:8080/"
        },
        "id": "PK7E8ZJ6Iv8s",
        "outputId": "19c30be7-c5d4-462e-aa5e-5003844a755a"
      },
      "execution_count": null,
      "outputs": [
        {
          "output_type": "stream",
          "name": "stdout",
          "text": [
            "OTHER values 47460\n",
            "\n",
            "PICKUP values 45257\n",
            "\n",
            "OTHER values are 51.18802377126094% of the data\n",
            "\n",
            "PICKUP values are 48.81197622873907% of the data\n",
            "\n",
            "(92717, 19)\n",
            "                 acceleration-x  acceleration-y  acceleration-z  label  \\\n",
            "timestamp                                                                \n",
            "175810837279649          -2.083          -0.095          10.066      1   \n",
            "175810847016940          -3.425          -0.564          10.648      1   \n",
            "175810857016940          -1.240          -0.219          10.543      1   \n",
            "175810869048857          -0.196          -0.323          10.139      1   \n",
            "175810883241649           0.824          -0.122           9.991      1   \n",
            "...                         ...             ...             ...    ...   \n",
            "177052423269657           0.751           5.022           8.930      0   \n",
            "177052434590657           0.351           4.464           8.669      0   \n",
            "177052445174074           0.178           4.385           8.424      0   \n",
            "177052450681866           0.212           4.422           7.989      0   \n",
            "177052461395407           0.615           4.642           7.669      0   \n",
            "\n",
            "                 gyroscope-x  gyroscope-y  gyroscope-z  linearAcceleration-x  \\\n",
            "timestamp                                                                      \n",
            "175810837279649       -0.240       -0.395        0.333                 0.247   \n",
            "175810847016940       -0.207       -0.289        0.426                -1.130   \n",
            "175810857016940       -0.207       -0.289        0.426                 1.030   \n",
            "175810869048857       -0.055       -0.132        0.700                 2.061   \n",
            "175810883241649       -0.003        0.042        0.365                 3.065   \n",
            "...                      ...          ...          ...                   ...   \n",
            "177052423269657        0.114       -0.866       -0.298                 0.925   \n",
            "177052434590657        0.393       -0.953       -0.338                 0.388   \n",
            "177052445174074        0.470       -0.943       -0.275                 0.146   \n",
            "177052450681866        0.485       -0.875       -0.169                 0.109   \n",
            "177052461395407        0.446       -0.823       -0.051                 0.445   \n",
            "\n",
            "                 linearAcceleration-y  linearAcceleration-z  gravity-x  \\\n",
            "timestamp                                                                \n",
            "175810837279649                 0.181                 0.545     -2.330   \n",
            "175810847016940                -0.274                 1.118     -2.295   \n",
            "175810857016940                 0.081                 1.007     -2.270   \n",
            "175810869048857                -0.023                 0.601     -2.258   \n",
            "175810883241649                 0.157                 0.448     -2.241   \n",
            "...                               ...                   ...        ...   \n",
            "177052423269657                 0.345                 0.312     -0.174   \n",
            "177052434590657                -0.257                 0.074     -0.037   \n",
            "177052445174074                -0.372                -0.151      0.033   \n",
            "177052450681866                -0.377                -0.562      0.103   \n",
            "177052461395407                -0.199                -0.858      0.171   \n",
            "\n",
            "                 gravity-y  gravity-z  magnetic-x  magnetic-y  magnetic-z  \\\n",
            "timestamp                                                                   \n",
            "175810837279649     -0.276      9.522      29.400      -7.400     -29.500   \n",
            "175810847016940     -0.290      9.530      29.300      -7.400     -29.600   \n",
            "175810857016940     -0.300      9.536      29.200      -7.400     -29.700   \n",
            "175810869048857     -0.300      9.539      29.100      -7.300     -29.800   \n",
            "175810883241649     -0.279      9.543      29.100      -7.400     -30.000   \n",
            "...                    ...        ...         ...         ...         ...   \n",
            "177052423269657      4.677      8.618     -24.500     -14.300     -32.200   \n",
            "177052434590657      4.721      8.596     -24.300     -14.200     -32.600   \n",
            "177052445174074      4.757      8.575     -24.200     -14.100     -32.700   \n",
            "177052450681866      4.799      8.552     -24.100     -14.000     -32.800   \n",
            "177052461395407      4.841      8.527     -24.100     -14.000     -32.800   \n",
            "\n",
            "                 rotation-x  rotation-y  rotation-z  \n",
            "timestamp                                            \n",
            "175810837279649     -14.331       1.610      13.751  \n",
            "175810847016940     -14.549       1.695      13.538  \n",
            "175810857016940     -14.815       1.751      13.392  \n",
            "175810869048857     -15.122       1.752      13.317  \n",
            "175810883241649     -15.833       1.633      13.216  \n",
            "...                     ...         ...         ...  \n",
            "177052423269657     135.623     -28.482       1.157  \n",
            "177052434590657     135.999     -28.775       0.246  \n",
            "177052445174074     136.208     -29.018      -0.220  \n",
            "177052450681866     136.378     -29.297      -0.688  \n",
            "177052461395407     136.480     -29.580      -1.146  \n",
            "\n",
            "[92717 rows x 19 columns]\n",
            "No. of training examples: 69537\n",
            "No. of testing examples: 23180\n",
            "Training shape: (69537, 18)\n"
          ]
        }
      ]
    },
    {
      "cell_type": "code",
      "source": [
        "\"\"\"\n",
        "\n",
        "\n",
        "plt.plot(merged[(merged['label']=='OTHER')].index, merged[(merged['label']=='OTHER')][\"acceleration-x\"])\n",
        "plt.plot(merged[(merged['label']=='OTHER')].index, merged[(merged['label']=='OTHER')][\"acceleration-y\"])\n",
        "plt.plot(merged[(merged['label']=='OTHER')].index, merged[(merged['label']=='OTHER')][\"acceleration-z\"])\n",
        "\n",
        "plt.show()\n",
        "\n",
        "plt.plot(merged[(merged['label']=='PICKUP')].index, merged[(merged['label']=='PICKUP')][\"acceleration-x\"])\n",
        "plt.plot(merged[(merged['label']=='PICKUP')].index, merged[(merged['label']=='PICKUP')][\"acceleration-y\"])\n",
        "plt.plot(merged[(merged['label']=='PICKUP')].index, merged[(merged['label']=='PICKUP')][\"acceleration-z\"])\n",
        "\n",
        "plt.show()\n",
        "\n",
        "plt.plot(merged[(merged['label']=='OTHER')].index, merged[(merged['label']=='OTHER')][\"gravity-x\"])\n",
        "plt.plot(merged[(merged['label']=='OTHER')].index, merged[(merged['label']=='OTHER')][\"gravity-y\"])\n",
        "plt.plot(merged[(merged['label']=='OTHER')].index, merged[(merged['label']=='OTHER')][\"gravity-z\"])\n",
        "\n",
        "plt.show()\n",
        "\n",
        "plt.plot(merged[(merged['label']=='PICKUP')].index, merged[(merged['label']=='PICKUP')][\"gravity-x\"])\n",
        "plt.plot(merged[(merged['label']=='PICKUP')].index, merged[(merged['label']=='PICKUP')][\"gravity-y\"])\n",
        "plt.plot(merged[(merged['label']=='PICKUP')].index, merged[(merged['label']=='PICKUP')][\"gravity-z\"])\n",
        "\n",
        "plt.show()\n",
        "\n",
        "plt.plot(merged[(merged['label']=='OTHER')].index, merged[(merged['label']=='OTHER')][\"linearAcceleration-x\"])\n",
        "plt.plot(merged[(merged['label']=='OTHER')].index, merged[(merged['label']=='OTHER')][\"linearAcceleration-y\"])\n",
        "plt.plot(merged[(merged['label']=='OTHER')].index, merged[(merged['label']=='OTHER')][\"linearAcceleration-z\"])\n",
        "\n",
        "plt.show()\n",
        "\n",
        "plt.plot(merged[(merged['label']=='PICKUP')].index, merged[(merged['label']=='PICKUP')][\"linearAcceleration-x\"])\n",
        "plt.plot(merged[(merged['label']=='PICKUP')].index, merged[(merged['label']=='PICKUP')][\"linearAcceleration-y\"])\n",
        "plt.plot(merged[(merged['label']=='PICKUP')].index, merged[(merged['label']=='PICKUP')][\"linearAcceleration-z\"])\n",
        "\n",
        "plt.show()\n",
        "\"\"\""
      ],
      "metadata": {
        "id": "IIv783BuiI2d"
      },
      "execution_count": null,
      "outputs": []
    },
    {
      "cell_type": "markdown",
      "source": [
        "# Costruzione modello\n",
        "Abbiamo quindi costruito un CNN utilizzando il modulo Tensorflow con diversi livelli.\n"
      ],
      "metadata": {
        "id": "y-Q6LcoZcVXy"
      }
    },
    {
      "cell_type": "code",
      "source": [
        "model = models.Sequential()\n",
        "\n",
        "model.add(layers.Flatten())\n",
        "model.add(layers.Dense(1000, activation=\"sigmoid\"))\n",
        "model.add(layers.Dropout(0.3))\n",
        "model.add(layers.Dense(500, activation=\"sigmoid\"))\n",
        "model.add(layers.BatchNormalization())\n",
        "model.add(layers.Dense(10, activation=\"sigmoid\"))\n",
        "model.add(layers.Dense(2, activation=\"softmax\"))"
      ],
      "metadata": {
        "id": "nPBvQPE4G_41"
      },
      "execution_count": null,
      "outputs": []
    },
    {
      "cell_type": "code",
      "source": [
        "model.compile(optimizer='adam',\n",
        "              loss=tf.keras.losses.SparseCategoricalCrossentropy(from_logits=True),\n",
        "              metrics=['accuracy'])\n",
        "\n",
        "history = model.fit(training_data, training_labels, epochs=100, validation_data=(testing_data, testing_labels))\n",
        "model.save(\".\")"
      ],
      "metadata": {
        "id": "WVg32RRFHk6v",
        "colab": {
          "base_uri": "https://localhost:8080/"
        },
        "outputId": "dddf36e7-b528-4289-86f4-65ee2005883e"
      },
      "execution_count": null,
      "outputs": [
        {
          "output_type": "stream",
          "name": "stdout",
          "text": [
            "Epoch 1/50\n"
          ]
        },
        {
          "output_type": "stream",
          "name": "stderr",
          "text": [
            "/usr/local/lib/python3.7/dist-packages/tensorflow/python/util/dispatch.py:1082: UserWarning: \"`sparse_categorical_crossentropy` received `from_logits=True`, but the `output` argument was produced by a sigmoid or softmax activation and thus does not represent logits. Was this intended?\"\n",
            "  return dispatch_target(*args, **kwargs)\n"
          ]
        },
        {
          "output_type": "stream",
          "name": "stdout",
          "text": [
            "2174/2174 [==============================] - 29s 13ms/step - loss: 0.4707 - accuracy: 0.7711 - val_loss: 0.3802 - val_accuracy: 0.8211\n",
            "Epoch 2/50\n",
            "2174/2174 [==============================] - 26s 12ms/step - loss: 0.3641 - accuracy: 0.8355 - val_loss: 0.2956 - val_accuracy: 0.8720\n",
            "Epoch 3/50\n",
            "2174/2174 [==============================] - 26s 12ms/step - loss: 0.3159 - accuracy: 0.8597 - val_loss: 0.2670 - val_accuracy: 0.8868\n",
            "Epoch 4/50\n",
            "2174/2174 [==============================] - 28s 13ms/step - loss: 0.2803 - accuracy: 0.8775 - val_loss: 0.2445 - val_accuracy: 0.8920\n",
            "Epoch 5/50\n",
            "2174/2174 [==============================] - 26s 12ms/step - loss: 0.2554 - accuracy: 0.8882 - val_loss: 0.2063 - val_accuracy: 0.9120\n",
            "Epoch 6/50\n",
            "2174/2174 [==============================] - 28s 13ms/step - loss: 0.2379 - accuracy: 0.8989 - val_loss: 0.1886 - val_accuracy: 0.9204\n",
            "Epoch 7/50\n",
            "2174/2174 [==============================] - 25s 12ms/step - loss: 0.2200 - accuracy: 0.9070 - val_loss: 0.1727 - val_accuracy: 0.9299\n",
            "Epoch 8/50\n",
            "2174/2174 [==============================] - 27s 12ms/step - loss: 0.2051 - accuracy: 0.9140 - val_loss: 0.1701 - val_accuracy: 0.9303\n",
            "Epoch 9/50\n",
            "2174/2174 [==============================] - 26s 12ms/step - loss: 0.1971 - accuracy: 0.9188 - val_loss: 0.1618 - val_accuracy: 0.9305\n",
            "Epoch 10/50\n",
            "2174/2174 [==============================] - 27s 13ms/step - loss: 0.1880 - accuracy: 0.9230 - val_loss: 0.1436 - val_accuracy: 0.9420\n",
            "Epoch 11/50\n",
            "2174/2174 [==============================] - 28s 13ms/step - loss: 0.1810 - accuracy: 0.9256 - val_loss: 0.1288 - val_accuracy: 0.9497\n",
            "Epoch 12/50\n",
            "2174/2174 [==============================] - 26s 12ms/step - loss: 0.1712 - accuracy: 0.9307 - val_loss: 0.1260 - val_accuracy: 0.9484\n",
            "Epoch 13/50\n",
            "2174/2174 [==============================] - 27s 13ms/step - loss: 0.1646 - accuracy: 0.9328 - val_loss: 0.1316 - val_accuracy: 0.9452\n",
            "Epoch 14/50\n",
            "2174/2174 [==============================] - 26s 12ms/step - loss: 0.1582 - accuracy: 0.9363 - val_loss: 0.1186 - val_accuracy: 0.9520\n",
            "Epoch 15/50\n",
            "2174/2174 [==============================] - 27s 12ms/step - loss: 0.1525 - accuracy: 0.9388 - val_loss: 0.1177 - val_accuracy: 0.9543\n",
            "Epoch 16/50\n",
            "2174/2174 [==============================] - 28s 13ms/step - loss: 0.1498 - accuracy: 0.9410 - val_loss: 0.1218 - val_accuracy: 0.9529\n",
            "Epoch 17/50\n",
            "2174/2174 [==============================] - 27s 13ms/step - loss: 0.1452 - accuracy: 0.9415 - val_loss: 0.1001 - val_accuracy: 0.9598\n",
            "Epoch 18/50\n",
            "2174/2174 [==============================] - 26s 12ms/step - loss: 0.1394 - accuracy: 0.9442 - val_loss: 0.1021 - val_accuracy: 0.9623\n",
            "Epoch 19/50\n",
            "2174/2174 [==============================] - 27s 12ms/step - loss: 0.1369 - accuracy: 0.9458 - val_loss: 0.0960 - val_accuracy: 0.9642\n",
            "Epoch 20/50\n",
            "2174/2174 [==============================] - 27s 13ms/step - loss: 0.1364 - accuracy: 0.9453 - val_loss: 0.0934 - val_accuracy: 0.9633\n",
            "Epoch 21/50\n",
            "2174/2174 [==============================] - 27s 12ms/step - loss: 0.1292 - accuracy: 0.9490 - val_loss: 0.0924 - val_accuracy: 0.9633\n",
            "Epoch 22/50\n",
            "2174/2174 [==============================] - 29s 13ms/step - loss: 0.1274 - accuracy: 0.9491 - val_loss: 0.0903 - val_accuracy: 0.9651\n",
            "Epoch 23/50\n",
            "2174/2174 [==============================] - 27s 13ms/step - loss: 0.1225 - accuracy: 0.9520 - val_loss: 0.0772 - val_accuracy: 0.9697\n",
            "Epoch 24/50\n",
            "2174/2174 [==============================] - 29s 13ms/step - loss: 0.1217 - accuracy: 0.9523 - val_loss: 0.0748 - val_accuracy: 0.9725\n",
            "Epoch 25/50\n",
            "2174/2174 [==============================] - 28s 13ms/step - loss: 0.1196 - accuracy: 0.9533 - val_loss: 0.0783 - val_accuracy: 0.9711\n",
            "Epoch 26/50\n",
            "2174/2174 [==============================] - 28s 13ms/step - loss: 0.1177 - accuracy: 0.9538 - val_loss: 0.0771 - val_accuracy: 0.9704\n",
            "Epoch 27/50\n",
            "2174/2174 [==============================] - 27s 12ms/step - loss: 0.1148 - accuracy: 0.9550 - val_loss: 0.0728 - val_accuracy: 0.9705\n",
            "Epoch 28/50\n",
            "2174/2174 [==============================] - 28s 13ms/step - loss: 0.1137 - accuracy: 0.9558 - val_loss: 0.0695 - val_accuracy: 0.9741\n",
            "Epoch 29/50\n",
            "2174/2174 [==============================] - 28s 13ms/step - loss: 0.1111 - accuracy: 0.9572 - val_loss: 0.0691 - val_accuracy: 0.9748\n",
            "Epoch 30/50\n",
            "2174/2174 [==============================] - 27s 13ms/step - loss: 0.1102 - accuracy: 0.9573 - val_loss: 0.0860 - val_accuracy: 0.9675\n",
            "Epoch 31/50\n",
            "2174/2174 [==============================] - 28s 13ms/step - loss: 0.1070 - accuracy: 0.9584 - val_loss: 0.0671 - val_accuracy: 0.9756\n",
            "Epoch 32/50\n",
            "2174/2174 [==============================] - 28s 13ms/step - loss: 0.1076 - accuracy: 0.9585 - val_loss: 0.0656 - val_accuracy: 0.9747\n",
            "Epoch 33/50\n",
            "2174/2174 [==============================] - 28s 13ms/step - loss: 0.1018 - accuracy: 0.9605 - val_loss: 0.0677 - val_accuracy: 0.9739\n",
            "Epoch 34/50\n",
            "2174/2174 [==============================] - 27s 13ms/step - loss: 0.1044 - accuracy: 0.9605 - val_loss: 0.0650 - val_accuracy: 0.9759\n",
            "Epoch 35/50\n",
            "2174/2174 [==============================] - 28s 13ms/step - loss: 0.1013 - accuracy: 0.9605 - val_loss: 0.0656 - val_accuracy: 0.9756\n",
            "Epoch 36/50\n",
            "2174/2174 [==============================] - 26s 12ms/step - loss: 0.0996 - accuracy: 0.9618 - val_loss: 0.0571 - val_accuracy: 0.9798\n",
            "Epoch 37/50\n",
            "2174/2174 [==============================] - 25s 12ms/step - loss: 0.0982 - accuracy: 0.9621 - val_loss: 0.0573 - val_accuracy: 0.9796\n",
            "Epoch 38/50\n",
            "2174/2174 [==============================] - 26s 12ms/step - loss: 0.0985 - accuracy: 0.9628 - val_loss: 0.0632 - val_accuracy: 0.9765\n",
            "Epoch 39/50\n",
            "2174/2174 [==============================] - 26s 12ms/step - loss: 0.0980 - accuracy: 0.9624 - val_loss: 0.0575 - val_accuracy: 0.9792\n",
            "Epoch 40/50\n",
            "2174/2174 [==============================] - 24s 11ms/step - loss: 0.0956 - accuracy: 0.9640 - val_loss: 0.0619 - val_accuracy: 0.9776\n",
            "Epoch 41/50\n",
            "2174/2174 [==============================] - 25s 12ms/step - loss: 0.0978 - accuracy: 0.9632 - val_loss: 0.0546 - val_accuracy: 0.9808\n",
            "Epoch 42/50\n",
            "2174/2174 [==============================] - 24s 11ms/step - loss: 0.0922 - accuracy: 0.9647 - val_loss: 0.0624 - val_accuracy: 0.9764\n",
            "Epoch 43/50\n",
            "2174/2174 [==============================] - 24s 11ms/step - loss: 0.0915 - accuracy: 0.9654 - val_loss: 0.0630 - val_accuracy: 0.9764\n",
            "Epoch 44/50\n",
            "2174/2174 [==============================] - 26s 12ms/step - loss: 0.0899 - accuracy: 0.9657 - val_loss: 0.0606 - val_accuracy: 0.9782\n",
            "Epoch 45/50\n",
            "2174/2174 [==============================] - 25s 12ms/step - loss: 0.0886 - accuracy: 0.9664 - val_loss: 0.0539 - val_accuracy: 0.9812\n",
            "Epoch 46/50\n",
            "2174/2174 [==============================] - 25s 12ms/step - loss: 0.0887 - accuracy: 0.9667 - val_loss: 0.0621 - val_accuracy: 0.9758\n",
            "Epoch 47/50\n",
            "2174/2174 [==============================] - 24s 11ms/step - loss: 0.0888 - accuracy: 0.9663 - val_loss: 0.0479 - val_accuracy: 0.9822\n",
            "Epoch 48/50\n",
            "2174/2174 [==============================] - 28s 13ms/step - loss: 0.0876 - accuracy: 0.9667 - val_loss: 0.0514 - val_accuracy: 0.9812\n",
            "Epoch 49/50\n",
            "2174/2174 [==============================] - 27s 13ms/step - loss: 0.0892 - accuracy: 0.9663 - val_loss: 0.0484 - val_accuracy: 0.9824\n",
            "Epoch 50/50\n",
            "2174/2174 [==============================] - 25s 12ms/step - loss: 0.0878 - accuracy: 0.9672 - val_loss: 0.0546 - val_accuracy: 0.9792\n",
            "INFO:tensorflow:Assets written to: ./assets\n"
          ]
        },
        {
          "output_type": "stream",
          "name": "stderr",
          "text": [
            "INFO:tensorflow:Assets written to: ./assets\n"
          ]
        }
      ]
    },
    {
      "cell_type": "markdown",
      "source": [
        "# Model evaluation\n",
        "Metriche per la valutazione del modello e della capacità predittiva"
      ],
      "metadata": {
        "id": "8wcJn9gK3gP2"
      }
    },
    {
      "cell_type": "code",
      "source": [
        "test_loss, test_acc = model.evaluate(testing_data,  testing_labels, verbose=2)\n",
        "\n",
        "metrics_df = pd.DataFrame(history.history)\n",
        "metrics_df[[\"loss\",\"val_loss\"]].plot();\n",
        "metrics_df[[\"accuracy\",\"val_accuracy\"]].plot();"
      ],
      "metadata": {
        "id": "_iY4fZeLd32b",
        "colab": {
          "base_uri": "https://localhost:8080/",
          "height": 530
        },
        "outputId": "33354b63-896e-4e91-91e7-259b59b11a22"
      },
      "execution_count": null,
      "outputs": [
        {
          "output_type": "stream",
          "name": "stdout",
          "text": [
            "725/725 - 2s - loss: 0.0546 - accuracy: 0.9792 - 2s/epoch - 3ms/step\n"
          ]
        },
        {
          "output_type": "display_data",
          "data": {
            "text/plain": [
              "<Figure size 432x288 with 1 Axes>"
            ],
            "image/png": "[encoded data removed]"
          },
          "metadata": {
            "needs_background": "light"
          }
        },
        {
          "output_type": "display_data",
          "data": {
            "text/plain": [
              "<Figure size 432x288 with 1 Axes>"
            ],
            "image/png": "[encoded data removed]"
          },
          "metadata": {
            "needs_background": "light"
          }
        }
      ]
    },
    {
      "cell_type": "code",
      "source": [
        "# Convert the model\n",
        "converter = tf.lite.TFLiteConverter.from_saved_model(\".\") # path to the SavedModel directory\n",
        "tflite_model = converter.convert()\n",
        "\n",
        "# Save the model.\n",
        "with open('pickupClassifier.tflite', 'wb') as f:\n",
        "  f.write(tflite_model)"
      ],
      "metadata": {
        "colab": {
          "base_uri": "https://localhost:8080/"
        },
        "id": "KE_DshnsvHiY",
        "outputId": "5c6098f3-4509-417d-b49c-5296aa204062"
      },
      "execution_count": null,
      "outputs": [
        {
          "output_type": "stream",
          "name": "stderr",
          "text": [
            "WARNING:absl:Buffer deduplication procedure will be skipped when flatbuffer library is not properly loaded\n"
          ]
        }
      ]
    }
  ]
}