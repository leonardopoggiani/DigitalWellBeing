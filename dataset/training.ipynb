{
  "nbformat": 4,
  "nbformat_minor": 0,
  "metadata": {
    "colab": {
      "name": "training.ipynb",
      "provenance": [],
      "collapsed_sections": []
    },
    "kernelspec": {
      "name": "python3",
      "display_name": "Python 3"
    },
    "language_info": {
      "name": "python"
    }
  },
  "cells": [
    {
      "cell_type": "code",
      "execution_count": 64,
      "metadata": {
        "id": "q4N_SNq7G7G9"
      },
      "outputs": [],
      "source": [
        "import tensorflow as tf\n",
        "\n",
        "from tensorflow.keras import datasets, layers, models\n",
        "import matplotlib.pyplot as plt\n",
        "import pandas as pd\n",
        "from sklearn.model_selection import train_test_split\n",
        "import numpy as np\n",
        "from tensorflow.keras.optimizers import SGD, Adam"
      ]
    },
    {
      "cell_type": "markdown",
      "source": [
        "# Data Pre-processing\n",
        "Abbiamo pre-processato i dati andando ad eliminare i primi 2 secondi di dati in quanto abbiamo ritenuto non fossero direttamente collegati all'attivitá di estrazione o riposizionamento del telefono dalla tasca. \n",
        "Abbiamo inoltre sostituito la label con un formato numerico, piú adatto alla rete neurale rispetto alla stringa, formato piú human-readable."
      ],
      "metadata": {
        "id": "7TtIfaJ91nJ3"
      }
    },
    {
      "cell_type": "code",
      "source": [
        "accelerometer = pd.read_csv(\"SensorData_Acc_0.csv\")\n",
        "#rotation = pd.read_csv(\"SensorData_Rot_0.csv\")\n",
        "\n",
        "del accelerometer[\"Unnamed: 5\"]\n",
        "\n",
        "accelerometer.columns = [\"ax\", \"ay\", \"az\", \"timestamp\", \"label\"]\n",
        "accelerometer.index = accelerometer[\"timestamp\"]\n",
        "\n",
        "#rotation.columns = [\"rx\", \"ry\", \"rz\", \"timestamp\", \"label\"]\n",
        "#rotation.index = rotation[\"timestamp\"]\n",
        "\n",
        "#accelerometer.join(rotation, lsuffix='_caller', rsuffix='_other')\n",
        "\n",
        "# 50 hz sampling rate, 600 sample/seconds, discard first two seconds of data\n",
        "N_FIRST = 600 * 2\n",
        "accelerometer = accelerometer.iloc[N_FIRST: , :]\n",
        "\n",
        "#rotation = rotation.iloc[N_FIRST: , :]\n",
        "\n",
        "# Number of rows to drop\n",
        "N_LAST = 600\n",
        " \n",
        "# Removing last n rows\n",
        "accelerometer = accelerometer.iloc[:-N_LAST]\n",
        "\n",
        "print(accelerometer.shape)\n",
        "\n",
        "mapping = {'PICKUP': 1, 'PUTDOWN': 2, 'OTHER': 3}\n",
        "accelerometer.replace({'label': mapping})\n",
        "\n",
        "accelerometer.label = [mapping[item] for item in accelerometer.label]\n",
        "\n",
        "print(accelerometer)\n",
        "\n",
        "training_data, testing_data = train_test_split(accelerometer, test_size=0.25, random_state=25)\n",
        "\n",
        "training_labels = training_data[\"label\"]\n",
        "del training_data[\"label\"]\n",
        "\n",
        "testing_labels = testing_data[\"label\"]\n",
        "del testing_data[\"label\"]\n",
        "\n",
        "print(f\"No. of training examples: {training_data.shape[0]}\")\n",
        "print(f\"No. of testing examples: {testing_data.shape[0]}\")\n",
        "\n",
        "print(training_data)"
      ],
      "metadata": {
        "colab": {
          "base_uri": "https://localhost:8080/"
        },
        "id": "PK7E8ZJ6Iv8s",
        "outputId": "b33bf543-994e-4b52-b8f8-e88723121d0b"
      },
      "execution_count": 67,
      "outputs": [
        {
          "output_type": "stream",
          "name": "stdout",
          "text": [
            "(9517, 5)\n",
            "                 ax     ay     az     timestamp  label\n",
            "timestamp                                             \n",
            "9.845011e+11  1.271  2.204  7.388  9.845011e+11      2\n",
            "9.845111e+11  1.539  2.232  7.024  9.845111e+11      2\n",
            "9.845211e+11  1.923  2.468  6.737  9.845211e+11      2\n",
            "9.845312e+11  2.341  2.649  5.985  9.845312e+11      2\n",
            "9.845411e+11  2.777  2.787  5.001  9.845411e+11      2\n",
            "...             ...    ...    ...           ...    ...\n",
            "1.107478e+12 -3.737 -7.099  2.281  1.107478e+12      2\n",
            "1.107487e+12 -3.882 -6.757  2.769  1.107487e+12      2\n",
            "1.107498e+12 -4.542 -5.993  2.350  1.107498e+12      2\n",
            "1.107507e+12 -5.490 -3.869  0.863  1.107507e+12      2\n",
            "1.107518e+12 -5.803 -0.619 -0.868  1.107518e+12      2\n",
            "\n",
            "[9517 rows x 5 columns]\n",
            "No. of training examples: 7137\n",
            "No. of testing examples: 2380\n",
            "                  ax      ay      az     timestamp\n",
            "timestamp                                         \n",
            "1.068132e+12 -13.000  -2.423   2.482  1.068132e+12\n",
            "1.011251e+12  -1.051   3.944   6.617  1.011251e+12\n",
            "1.050282e+12 -10.041  -4.536   0.502  1.050282e+12\n",
            "1.066682e+12  -9.077  -4.897  -1.291  1.066682e+12\n",
            "1.088768e+12   6.432 -11.352  -0.035  1.088768e+12\n",
            "...              ...     ...     ...           ...\n",
            "1.011922e+12  -0.662   7.113   5.488  1.011922e+12\n",
            "1.094094e+12   1.159  -0.412  10.173  1.094094e+12\n",
            "1.031152e+12   6.927  -8.979  -2.115  1.031152e+12\n",
            "1.068102e+12 -12.062  -3.684   3.732  1.068102e+12\n",
            "1.094717e+12  -0.149   2.059   5.975  1.094717e+12\n",
            "\n",
            "[7137 rows x 4 columns]\n"
          ]
        }
      ]
    },
    {
      "cell_type": "markdown",
      "source": [
        "# Costruzione modello\n",
        "Abbiamo quindi costruito un CNN utilizzando il modulo Tensorflow con diversi livelli.\n"
      ],
      "metadata": {
        "id": "y-Q6LcoZcVXy"
      }
    },
    {
      "cell_type": "code",
      "source": [
        "model = models.Sequential()\n",
        "model.add(layers.Flatten())\n",
        "model.add(layers.Dense(100, activation=\"sigmoid\"))\n",
        "model.add(layers.Dropout(0.25))\n",
        "model.add(layers.BatchNormalization())\n",
        "\n",
        "model.add(layers.Dense(4, activation=\"sigmoid\"))"
      ],
      "metadata": {
        "id": "nPBvQPE4G_41"
      },
      "execution_count": 68,
      "outputs": []
    },
    {
      "cell_type": "code",
      "source": [
        "model.compile(optimizer='adam',\n",
        "              loss=tf.keras.losses.SparseCategoricalCrossentropy(from_logits=True),\n",
        "              metrics=['accuracy'])\n",
        "\n",
        "history = model.fit(training_data, training_labels, epochs=10, validation_data=(testing_data, testing_labels))\n",
        "model.save(\".\")"
      ],
      "metadata": {
        "id": "WVg32RRFHk6v",
        "colab": {
          "base_uri": "https://localhost:8080/"
        },
        "outputId": "8645b06b-2564-4105-9e1a-8c677250df6b"
      },
      "execution_count": 70,
      "outputs": [
        {
          "output_type": "stream",
          "name": "stdout",
          "text": [
            "Epoch 1/10\n"
          ]
        },
        {
          "output_type": "stream",
          "name": "stderr",
          "text": [
            "/usr/local/lib/python3.7/dist-packages/tensorflow/python/util/dispatch.py:1082: UserWarning: \"`sparse_categorical_crossentropy` received `from_logits=True`, but the `output` argument was produced by a sigmoid or softmax activation and thus does not represent logits. Was this intended?\"\n",
            "  return dispatch_target(*args, **kwargs)\n"
          ]
        },
        {
          "output_type": "stream",
          "name": "stdout",
          "text": [
            "224/224 [==============================] - 2s 5ms/step - loss: 0.8661 - accuracy: 0.7088 - val_loss: 0.6503 - val_accuracy: 0.8097\n",
            "Epoch 2/10\n"
          ]
        },
        {
          "output_type": "stream",
          "name": "stderr",
          "text": [
            "/usr/local/lib/python3.7/dist-packages/tensorflow/python/util/dispatch.py:1082: UserWarning: \"`sparse_categorical_crossentropy` received `from_logits=True`, but the `output` argument was produced by a sigmoid or softmax activation and thus does not represent logits. Was this intended?\"\n",
            "  return dispatch_target(*args, **kwargs)\n"
          ]
        },
        {
          "output_type": "stream",
          "name": "stdout",
          "text": [
            "224/224 [==============================] - 1s 3ms/step - loss: 0.6201 - accuracy: 0.8251 - val_loss: 0.6336 - val_accuracy: 0.8097\n",
            "Epoch 3/10\n",
            "224/224 [==============================] - 1s 3ms/step - loss: 0.5932 - accuracy: 0.8251 - val_loss: 0.6268 - val_accuracy: 0.8097\n",
            "Epoch 4/10\n",
            "224/224 [==============================] - 1s 2ms/step - loss: 0.5878 - accuracy: 0.8251 - val_loss: 0.6225 - val_accuracy: 0.8097\n",
            "Epoch 5/10\n",
            "224/224 [==============================] - 1s 3ms/step - loss: 0.5848 - accuracy: 0.8251 - val_loss: 0.6229 - val_accuracy: 0.8097\n",
            "Epoch 6/10\n",
            "224/224 [==============================] - 1s 3ms/step - loss: 0.5843 - accuracy: 0.8251 - val_loss: 0.6231 - val_accuracy: 0.8097\n",
            "Epoch 7/10\n",
            "224/224 [==============================] - 1s 2ms/step - loss: 0.5841 - accuracy: 0.8251 - val_loss: 0.6249 - val_accuracy: 0.8097\n",
            "Epoch 8/10\n",
            "224/224 [==============================] - 1s 2ms/step - loss: 0.5821 - accuracy: 0.8251 - val_loss: 0.6248 - val_accuracy: 0.8097\n",
            "Epoch 9/10\n",
            "224/224 [==============================] - 1s 3ms/step - loss: 0.5829 - accuracy: 0.8251 - val_loss: 0.6225 - val_accuracy: 0.8097\n",
            "Epoch 10/10\n",
            "224/224 [==============================] - 1s 2ms/step - loss: 0.5830 - accuracy: 0.8251 - val_loss: 0.6218 - val_accuracy: 0.8097\n",
            "INFO:tensorflow:Assets written to: ./assets\n"
          ]
        }
      ]
    },
    {
      "cell_type": "code",
      "source": [
        "test_loss, test_acc = model.evaluate(testing_data,  testing_labels, verbose=2)\n",
        "\n",
        "metrics_df = pd.DataFrame(history.history)\n",
        "metrics_df[[\"loss\",\"val_loss\"]].plot();\n",
        "metrics_df[[\"accuracy\",\"val_accuracy\"]].plot();\n"
      ],
      "metadata": {
        "id": "_iY4fZeLd32b",
        "colab": {
          "base_uri": "https://localhost:8080/",
          "height": 530
        },
        "outputId": "217090ee-fd8c-4257-9823-033fb30788c8"
      },
      "execution_count": 71,
      "outputs": [
        {
          "output_type": "stream",
          "name": "stdout",
          "text": [
            "75/75 - 0s - loss: 0.6218 - accuracy: 0.8097 - 100ms/epoch - 1ms/step\n"
          ]
        },
        {
          "output_type": "display_data",
          "data": {
            "text/plain": [
              "<Figure size 432x288 with 1 Axes>"
            ],
            "image/png": "[encoded data removed]"
          },
          "metadata": {
            "needs_background": "light"
          }
        },
        {
          "output_type": "display_data",
          "data": {
            "text/plain": [
              "<Figure size 432x288 with 1 Axes>"
            ],
            "image/png": "[encoded data removed]"
          },
          "metadata": {
            "needs_background": "light"
          }
        }
      ]
    },
    {
      "cell_type": "code",
      "source": [
        "# Convert the model\n",
        "converter = tf.lite.TFLiteConverter.from_saved_model(\".\") # path to the SavedModel directory\n",
        "tflite_model = converter.convert()\n",
        "\n",
        "# Save the model.\n",
        "with open('model.tflite', 'wb') as f:\n",
        "  f.write(tflite_model)"
      ],
      "metadata": {
        "colab": {
          "base_uri": "https://localhost:8080/"
        },
        "id": "KE_DshnsvHiY",
        "outputId": "a917fd75-0542-49fc-e7ab-c448056b6c45"
      },
      "execution_count": null,
      "outputs": [
        {
          "output_type": "stream",
          "name": "stderr",
          "text": [
            "WARNING:absl:Buffer deduplication procedure will be skipped when flatbuffer library is not properly loaded\n"
          ]
        }
      ]
    }
  ]
}