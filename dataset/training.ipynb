{
  "nbformat": 4,
  "nbformat_minor": 0,
  "metadata": {
    "colab": {
      "name": "training.ipynb",
      "provenance": [],
      "collapsed_sections": []
    },
    "kernelspec": {
      "name": "python3",
      "display_name": "Python 3"
    },
    "language_info": {
      "name": "python"
    }
  },
  "cells": [
    {
      "cell_type": "code",
      "execution_count": 167,
      "metadata": {
        "id": "q4N_SNq7G7G9"
      },
      "outputs": [],
      "source": [
        "import tensorflow as tf\n",
        "\n",
        "from tensorflow.keras import datasets, layers, models\n",
        "import matplotlib.pyplot as plt\n",
        "import pandas as pd\n",
        "from sklearn.model_selection import train_test_split\n",
        "import numpy as np"
      ]
    },
    {
      "cell_type": "code",
      "source": [
        "accelerometer = pd.read_csv(\"SensorData_Acc_0.csv\")\n",
        "rotation = pd.read_csv(\"SensorData_Rot_0.csv\")\n",
        "\n",
        "del accelerometer[\"Unnamed: 5\"]\n",
        "\n",
        "print(accelerometer)\n",
        "\n",
        "accelerometer.columns = [\"ax\", \"ay\", \"az\", \"timestamp\", \"label\"]\n",
        "accelerometer.index = accelerometer[\"timestamp\"]\n",
        "\n",
        "rotation.columns = [\"rx\", \"ry\", \"rz\", \"timestamp\", \"label\"]\n",
        "rotation.index = rotation[\"timestamp\"]\n",
        "\n",
        "accelerometer.join(rotation, lsuffix='_caller', rsuffix='_other')\n",
        "\n",
        "# 50 hz sampling rate, 600 sample/seconds, discard first two seconds of data\n",
        "N_FIRST = 600 * 2\n",
        "accelerometer = accelerometer.iloc[N_FIRST: , :]\n",
        "\n",
        "N_FIRST = 600 * 2\n",
        "rotation = rotation.iloc[N_FIRST: , :]\n",
        "\n",
        "# Number of rows to drop\n",
        "N_LAST = 600\n",
        " \n",
        "# Removing last n rows\n",
        "accelerometer = accelerometer.iloc[:-N_LAST]\n",
        "\n",
        "print(accelerometer.shape)\n",
        "\n",
        "mapping = {'PICKUP': 1, 'PUTDOWN': 2, 'OTHER': 3}\n",
        "accelerometer.replace({'label': mapping})\n",
        "\n",
        "accelerometer.label = [mapping[item] for item in accelerometer.label]\n",
        "\n",
        "print(accelerometer)\n",
        "\n",
        "training_data, testing_data = train_test_split(accelerometer, test_size=0.2, random_state=25)\n",
        "\n",
        "training_labels = training_data[\"label\"]\n",
        "del training_data[\"label\"]\n",
        "\n",
        "testing_labels = testing_data[\"label\"]\n",
        "del testing_data[\"label\"]\n",
        "\n",
        "print(f\"No. of training examples: {training_data.shape[0]}\")\n",
        "print(f\"No. of testing examples: {testing_data.shape[0]}\")\n",
        "\n",
        "print(training_data)"
      ],
      "metadata": {
        "colab": {
          "base_uri": "https://localhost:8080/"
        },
        "id": "PK7E8ZJ6Iv8s",
        "outputId": "b7975512-6182-4d61-ebc2-a2cc9f8f773c"
      },
      "execution_count": 173,
      "outputs": [
        {
          "output_type": "stream",
          "name": "stdout",
          "text": [
            "       -2.142  2.952  8.848  963299515240  PUTDOWN\n",
            "0      -2.166  3.005  8.857  9.633026e+11  PUTDOWN\n",
            "1      -2.185  3.067  8.834  9.633115e+11  PUTDOWN\n",
            "2      -2.201  3.182  8.730  9.633215e+11  PUTDOWN\n",
            "3      -2.188  3.283  8.615  9.633315e+11  PUTDOWN\n",
            "4      -2.222  3.374  8.545  9.633426e+11  PUTDOWN\n",
            "...       ...    ...    ...           ...      ...\n",
            "11312  -2.710  4.588  7.981  1.117767e+12    OTHER\n",
            "11313  -2.642  4.362  8.120  1.117777e+12    OTHER\n",
            "11314  -2.580  4.129  8.308  1.117787e+12    OTHER\n",
            "11315  -2.543  3.918  8.462  1.117797e+12    OTHER\n",
            "11316  -2.529  3.000    NaN           NaN      NaN\n",
            "\n",
            "[11317 rows x 5 columns]\n",
            "                  rx         ry            rz timestamp  label\n",
            "timestamp                                                     \n",
            "OTHER       2.203495  -0.003659  1.052139e+13     OTHER    NaN\n",
            "OTHER       2.203494  -0.003659  1.052144e+13     OTHER    NaN\n",
            "OTHER       2.203495  -0.003659  1.052149e+13     OTHER    NaN\n",
            "OTHER       2.203494  -0.003659  1.052154e+13     OTHER    NaN\n",
            "OTHER       2.203495  -0.003659  1.052159e+13     OTHER    NaN\n",
            "...              ...        ...           ...       ...    ...\n",
            "PUTDOWN   -67.503415 -89.994484  1.064074e+13   PUTDOWN    NaN\n",
            "PUTDOWN   -67.503402 -89.994484  1.064079e+13   PUTDOWN    NaN\n",
            "PUTDOWN   -67.503388 -89.994450  1.064084e+13   PUTDOWN    NaN\n",
            "PUTDOWN   -67.503402 -89.994463  1.064089e+13   PUTDOWN    NaN\n",
            "NaN       -67.503388        NaN           NaN       NaN    NaN\n",
            "\n",
            "[1759 rows x 5 columns]\n",
            "                 ax     ay     az     timestamp    label\n",
            "timestamp                                               \n",
            "9.845011e+11  1.271  2.204  7.388  9.845011e+11  PUTDOWN\n",
            "9.845111e+11  1.539  2.232  7.024  9.845111e+11  PUTDOWN\n",
            "9.845211e+11  1.923  2.468  6.737  9.845211e+11  PUTDOWN\n",
            "9.845312e+11  2.341  2.649  5.985  9.845312e+11  PUTDOWN\n",
            "9.845411e+11  2.777  2.787  5.001  9.845411e+11  PUTDOWN\n",
            "...             ...    ...    ...           ...      ...\n",
            "1.117767e+12 -2.710  4.588  7.981  1.117767e+12    OTHER\n",
            "1.117777e+12 -2.642  4.362  8.120  1.117777e+12    OTHER\n",
            "1.117787e+12 -2.580  4.129  8.308  1.117787e+12    OTHER\n",
            "1.117797e+12 -2.543  3.918  8.462  1.117797e+12    OTHER\n",
            "NaN          -2.529  3.000    NaN           NaN      NaN\n",
            "\n",
            "[10117 rows x 5 columns]\n",
            "(9517, 5)\n",
            "                 ax     ay     az     timestamp  label\n",
            "timestamp                                             \n",
            "9.845011e+11  1.271  2.204  7.388  9.845011e+11      2\n",
            "9.845111e+11  1.539  2.232  7.024  9.845111e+11      2\n",
            "9.845211e+11  1.923  2.468  6.737  9.845211e+11      2\n",
            "9.845312e+11  2.341  2.649  5.985  9.845312e+11      2\n",
            "9.845411e+11  2.777  2.787  5.001  9.845411e+11      2\n",
            "...             ...    ...    ...           ...    ...\n",
            "1.107478e+12 -3.737 -7.099  2.281  1.107478e+12      2\n",
            "1.107487e+12 -3.882 -6.757  2.769  1.107487e+12      2\n",
            "1.107498e+12 -4.542 -5.993  2.350  1.107498e+12      2\n",
            "1.107507e+12 -5.490 -3.869  0.863  1.107507e+12      2\n",
            "1.107518e+12 -5.803 -0.619 -0.868  1.107518e+12      2\n",
            "\n",
            "[9517 rows x 5 columns]\n",
            "No. of training examples: 7613\n",
            "No. of testing examples: 1904\n",
            "                  ax      ay      az     timestamp\n",
            "timestamp                                         \n",
            "1.098328e+12   8.269 -10.535   4.115  1.098328e+12\n",
            "1.054772e+12  -0.062   4.944   5.627  1.054772e+12\n",
            "1.014952e+12  -3.169   6.727   6.681  1.014952e+12\n",
            "1.023842e+12  12.926  -5.566   4.579  1.023842e+12\n",
            "1.051041e+12  -0.042  -3.943  -1.602  1.051041e+12\n",
            "...              ...     ...     ...           ...\n",
            "1.011922e+12  -0.662   7.113   5.488  1.011922e+12\n",
            "1.094094e+12   1.159  -0.412  10.173  1.094094e+12\n",
            "1.031152e+12   6.927  -8.979  -2.115  1.031152e+12\n",
            "1.068102e+12 -12.062  -3.684   3.732  1.068102e+12\n",
            "1.094717e+12  -0.149   2.059   5.975  1.094717e+12\n",
            "\n",
            "[7613 rows x 4 columns]\n"
          ]
        }
      ]
    },
    {
      "cell_type": "code",
      "source": [
        "model = models.Sequential()\n",
        "model.add(tf.keras.layers.Dense(training_data.shape[0], input_shape=(training_data.shape[1],), activation='sigmoid'))"
      ],
      "metadata": {
        "id": "nPBvQPE4G_41",
        "colab": {
          "base_uri": "https://localhost:8080/"
        },
        "outputId": "0f5f9991-6b08-42dd-ea61-6d55cfbd570d"
      },
      "execution_count": 174,
      "outputs": [
        {
          "output_type": "stream",
          "name": "stdout",
          "text": [
            "timestamp\n",
            "1.098328e+12    3\n",
            "1.054772e+12    3\n",
            "1.014952e+12    3\n",
            "1.023842e+12    3\n",
            "1.051041e+12    3\n",
            "               ..\n",
            "1.011922e+12    1\n",
            "1.094094e+12    3\n",
            "1.031152e+12    3\n",
            "1.068102e+12    3\n",
            "1.094717e+12    3\n",
            "Name: label, Length: 7613, dtype: int64\n"
          ]
        }
      ]
    },
    {
      "cell_type": "code",
      "source": [
        "model.compile(optimizer='adam',\n",
        "              loss=tf.keras.losses.SparseCategoricalCrossentropy(from_logits=True),\n",
        "              metrics=['accuracy'])\n",
        "\n",
        "history = model.fit(training_data, training_labels, epochs=50, validation_data=(testing_data, testing_labels))"
      ],
      "metadata": {
        "colab": {
          "base_uri": "https://localhost:8080/"
        },
        "id": "WVg32RRFHk6v",
        "outputId": "0fc94f33-958d-43c3-e3cc-df62d00dd052"
      },
      "execution_count": 175,
      "outputs": [
        {
          "output_type": "stream",
          "name": "stdout",
          "text": [
            "Epoch 1/50\n"
          ]
        },
        {
          "output_type": "stream",
          "name": "stderr",
          "text": [
            "/usr/local/lib/python3.7/dist-packages/tensorflow/python/util/dispatch.py:1082: UserWarning: \"`sparse_categorical_crossentropy` received `from_logits=True`, but the `output` argument was produced by a sigmoid or softmax activation and thus does not represent logits. Was this intended?\"\n",
            "  return dispatch_target(*args, **kwargs)\n"
          ]
        },
        {
          "output_type": "stream",
          "name": "stdout",
          "text": [
            "235/238 [============================>.] - ETA: 0s - loss: 3536232448.0000 - accuracy: 0.5922"
          ]
        },
        {
          "output_type": "stream",
          "name": "stderr",
          "text": [
            "/usr/local/lib/python3.7/dist-packages/tensorflow/python/util/dispatch.py:1082: UserWarning: \"`sparse_categorical_crossentropy` received `from_logits=True`, but the `output` argument was produced by a sigmoid or softmax activation and thus does not represent logits. Was this intended?\"\n",
            "  return dispatch_target(*args, **kwargs)\n"
          ]
        },
        {
          "output_type": "stream",
          "name": "stdout",
          "text": [
            "\b\b\b\b\b\b\b\b\b\b\b\b\b\b\b\b\b\b\b\b\b\b\b\b\b\b\b\b\b\b\b\b\b\b\b\b\b\b\b\b\b\b\b\b\b\b\b\b\b\b\b\b\b\b\b\b\b\b\b\b\b\b\b\b\b\b\b\b\b\b\b\b\b\b\b\b\b\b\b\b\b\b\b\b\b\b\b\b\b\b\b\b\b\r238/238 [==============================] - 2s 8ms/step - loss: 3498193664.0000 - accuracy: 0.5948 - val_loss: 347025152.0000 - val_accuracy: 0.8051\n",
            "Epoch 2/50\n",
            "238/238 [==============================] - 2s 8ms/step - loss: 234512720.0000 - accuracy: 0.7037 - val_loss: 48921840.0000 - val_accuracy: 0.8051\n",
            "Epoch 3/50\n",
            "238/238 [==============================] - 2s 8ms/step - loss: 226599952.0000 - accuracy: 0.6949 - val_loss: 423088480.0000 - val_accuracy: 0.8051\n",
            "Epoch 4/50\n",
            "238/238 [==============================] - 2s 8ms/step - loss: 186130688.0000 - accuracy: 0.6995 - val_loss: 37921868.0000 - val_accuracy: 0.8051\n",
            "Epoch 5/50\n",
            "238/238 [==============================] - 2s 8ms/step - loss: 185452816.0000 - accuracy: 0.6958 - val_loss: 66255168.0000 - val_accuracy: 0.8051\n",
            "Epoch 6/50\n",
            "238/238 [==============================] - 2s 8ms/step - loss: 182899408.0000 - accuracy: 0.7024 - val_loss: 7341131.5000 - val_accuracy: 0.8051\n",
            "Epoch 7/50\n",
            "238/238 [==============================] - 2s 8ms/step - loss: 172522576.0000 - accuracy: 0.6966 - val_loss: 243121696.0000 - val_accuracy: 0.8051\n",
            "Epoch 8/50\n",
            "238/238 [==============================] - 2s 8ms/step - loss: 168674480.0000 - accuracy: 0.6992 - val_loss: 344776832.0000 - val_accuracy: 0.8051\n",
            "Epoch 9/50\n",
            "238/238 [==============================] - 2s 8ms/step - loss: 180350112.0000 - accuracy: 0.6979 - val_loss: 158616000.0000 - val_accuracy: 0.8051\n",
            "Epoch 10/50\n",
            "238/238 [==============================] - 2s 8ms/step - loss: 160809600.0000 - accuracy: 0.6991 - val_loss: 187514784.0000 - val_accuracy: 0.8051\n",
            "Epoch 11/50\n",
            "238/238 [==============================] - 2s 8ms/step - loss: 158309744.0000 - accuracy: 0.6981 - val_loss: 302911904.0000 - val_accuracy: 0.8051\n",
            "Epoch 12/50\n",
            "238/238 [==============================] - 2s 8ms/step - loss: 179436944.0000 - accuracy: 0.6945 - val_loss: 250634560.0000 - val_accuracy: 0.8051\n",
            "Epoch 13/50\n",
            "238/238 [==============================] - 2s 8ms/step - loss: 183390416.0000 - accuracy: 0.7037 - val_loss: 231072656.0000 - val_accuracy: 0.1008\n",
            "Epoch 14/50\n",
            "238/238 [==============================] - 2s 8ms/step - loss: 151265728.0000 - accuracy: 0.6966 - val_loss: 152718224.0000 - val_accuracy: 0.8051\n",
            "Epoch 15/50\n",
            "238/238 [==============================] - 2s 8ms/step - loss: 169926416.0000 - accuracy: 0.7013 - val_loss: 303745952.0000 - val_accuracy: 0.8051\n",
            "Epoch 16/50\n",
            "238/238 [==============================] - 2s 8ms/step - loss: 170704368.0000 - accuracy: 0.7026 - val_loss: 51169924.0000 - val_accuracy: 0.8051\n",
            "Epoch 17/50\n",
            "238/238 [==============================] - 2s 8ms/step - loss: 192379568.0000 - accuracy: 0.6995 - val_loss: 310206912.0000 - val_accuracy: 0.8051\n",
            "Epoch 18/50\n",
            "238/238 [==============================] - 2s 8ms/step - loss: 154031968.0000 - accuracy: 0.7058 - val_loss: 19089338.0000 - val_accuracy: 0.8051\n",
            "Epoch 19/50\n",
            "238/238 [==============================] - 2s 8ms/step - loss: 157563360.0000 - accuracy: 0.6978 - val_loss: 100804544.0000 - val_accuracy: 0.8051\n",
            "Epoch 20/50\n",
            "238/238 [==============================] - 2s 8ms/step - loss: 218607056.0000 - accuracy: 0.6949 - val_loss: 347184064.0000 - val_accuracy: 0.8051\n",
            "Epoch 21/50\n",
            "238/238 [==============================] - 2s 8ms/step - loss: 131618632.0000 - accuracy: 0.7008 - val_loss: 114334304.0000 - val_accuracy: 0.8051\n",
            "Epoch 22/50\n",
            "238/238 [==============================] - 2s 8ms/step - loss: 176682800.0000 - accuracy: 0.7030 - val_loss: 78632416.0000 - val_accuracy: 0.8051\n",
            "Epoch 23/50\n",
            "238/238 [==============================] - 2s 8ms/step - loss: 198888640.0000 - accuracy: 0.7033 - val_loss: 170917792.0000 - val_accuracy: 0.0940\n",
            "Epoch 24/50\n",
            "238/238 [==============================] - 2s 8ms/step - loss: 127296600.0000 - accuracy: 0.6920 - val_loss: 305656544.0000 - val_accuracy: 0.8051\n",
            "Epoch 25/50\n",
            "238/238 [==============================] - 2s 8ms/step - loss: 154077456.0000 - accuracy: 0.7004 - val_loss: 182784960.0000 - val_accuracy: 0.8051\n",
            "Epoch 26/50\n",
            "238/238 [==============================] - 2s 8ms/step - loss: 200303456.0000 - accuracy: 0.7051 - val_loss: 288497792.0000 - val_accuracy: 0.8051\n",
            "Epoch 27/50\n",
            "238/238 [==============================] - 2s 8ms/step - loss: 141490496.0000 - accuracy: 0.6967 - val_loss: 69921000.0000 - val_accuracy: 0.8051\n",
            "Epoch 28/50\n",
            "238/238 [==============================] - 2s 8ms/step - loss: 154680992.0000 - accuracy: 0.6947 - val_loss: 130834920.0000 - val_accuracy: 0.8051\n",
            "Epoch 29/50\n",
            "238/238 [==============================] - 2s 8ms/step - loss: 154196752.0000 - accuracy: 0.6950 - val_loss: 179409856.0000 - val_accuracy: 0.8051\n",
            "Epoch 30/50\n",
            "238/238 [==============================] - 2s 8ms/step - loss: 161971792.0000 - accuracy: 0.7000 - val_loss: 335181344.0000 - val_accuracy: 0.8051\n",
            "Epoch 31/50\n",
            "238/238 [==============================] - 2s 8ms/step - loss: 164797408.0000 - accuracy: 0.7062 - val_loss: 134357856.0000 - val_accuracy: 0.1008\n",
            "Epoch 32/50\n",
            "238/238 [==============================] - 2s 8ms/step - loss: 209831584.0000 - accuracy: 0.7004 - val_loss: 105281888.0000 - val_accuracy: 0.8051\n",
            "Epoch 33/50\n",
            "238/238 [==============================] - 2s 8ms/step - loss: 186660160.0000 - accuracy: 0.6949 - val_loss: 379350240.0000 - val_accuracy: 0.8051\n",
            "Epoch 34/50\n",
            "238/238 [==============================] - 2s 8ms/step - loss: 179807376.0000 - accuracy: 0.7030 - val_loss: 253319584.0000 - val_accuracy: 0.0940\n",
            "Epoch 35/50\n",
            "238/238 [==============================] - 2s 8ms/step - loss: 180447152.0000 - accuracy: 0.6991 - val_loss: 192090032.0000 - val_accuracy: 0.8051\n",
            "Epoch 36/50\n",
            "238/238 [==============================] - 2s 8ms/step - loss: 148017856.0000 - accuracy: 0.7012 - val_loss: 326664096.0000 - val_accuracy: 0.8051\n",
            "Epoch 37/50\n",
            "238/238 [==============================] - 2s 8ms/step - loss: 162174608.0000 - accuracy: 0.6970 - val_loss: 118493272.0000 - val_accuracy: 0.8051\n",
            "Epoch 38/50\n",
            "238/238 [==============================] - 2s 8ms/step - loss: 184917024.0000 - accuracy: 0.7008 - val_loss: 34602828.0000 - val_accuracy: 0.8051\n",
            "Epoch 39/50\n",
            "238/238 [==============================] - 2s 8ms/step - loss: 161553280.0000 - accuracy: 0.7058 - val_loss: 294520736.0000 - val_accuracy: 0.1008\n",
            "Epoch 40/50\n",
            "238/238 [==============================] - 3s 11ms/step - loss: 210729200.0000 - accuracy: 0.6974 - val_loss: 199140944.0000 - val_accuracy: 0.8051\n",
            "Epoch 41/50\n",
            "238/238 [==============================] - 2s 9ms/step - loss: 205351360.0000 - accuracy: 0.6972 - val_loss: 364119840.0000 - val_accuracy: 0.8051\n",
            "Epoch 42/50\n",
            "238/238 [==============================] - 2s 8ms/step - loss: 189865952.0000 - accuracy: 0.7004 - val_loss: 379404576.0000 - val_accuracy: 0.8051\n",
            "Epoch 43/50\n",
            "238/238 [==============================] - 2s 8ms/step - loss: 178172784.0000 - accuracy: 0.7068 - val_loss: 342517856.0000 - val_accuracy: 0.1008\n",
            "Epoch 44/50\n",
            "238/238 [==============================] - 2s 8ms/step - loss: 141718848.0000 - accuracy: 0.6945 - val_loss: 364499104.0000 - val_accuracy: 0.8051\n",
            "Epoch 45/50\n",
            "238/238 [==============================] - 2s 8ms/step - loss: 142086960.0000 - accuracy: 0.7043 - val_loss: 271371456.0000 - val_accuracy: 0.8051\n",
            "Epoch 46/50\n",
            "238/238 [==============================] - 2s 8ms/step - loss: 165418496.0000 - accuracy: 0.6995 - val_loss: 117935968.0000 - val_accuracy: 0.8051\n",
            "Epoch 47/50\n",
            "238/238 [==============================] - 2s 8ms/step - loss: 151474816.0000 - accuracy: 0.7017 - val_loss: 77440096.0000 - val_accuracy: 0.8051\n",
            "Epoch 48/50\n",
            "238/238 [==============================] - 2s 10ms/step - loss: 140791888.0000 - accuracy: 0.7046 - val_loss: 271837920.0000 - val_accuracy: 0.1008\n",
            "Epoch 49/50\n",
            "238/238 [==============================] - 2s 10ms/step - loss: 235163744.0000 - accuracy: 0.7017 - val_loss: 101012904.0000 - val_accuracy: 0.8051\n",
            "Epoch 50/50\n",
            "238/238 [==============================] - 2s 8ms/step - loss: 126601184.0000 - accuracy: 0.6966 - val_loss: 174684560.0000 - val_accuracy: 0.8051\n"
          ]
        }
      ]
    },
    {
      "cell_type": "code",
      "source": [
        "plt.plot(history.history['accuracy'], label='accuracy')\n",
        "plt.plot(history.history['val_accuracy'], label = 'val_accuracy')\n",
        "plt.xlabel('Epoch')\n",
        "plt.ylabel('Accuracy')\n",
        "plt.ylim([0.5, 1])\n",
        "plt.legend(loc='lower right')\n",
        "\n",
        "test_loss, test_acc = model.evaluate(testing_data,  testing_labels, verbose=2)"
      ],
      "metadata": {
        "colab": {
          "base_uri": "https://localhost:8080/",
          "height": 300
        },
        "id": "_iY4fZeLd32b",
        "outputId": "316daa77-76fd-488a-f3b3-3a91d95044bc"
      },
      "execution_count": 176,
      "outputs": [
        {
          "output_type": "stream",
          "name": "stdout",
          "text": [
            "60/60 - 0s - loss: 174684560.0000 - accuracy: 0.8051 - 305ms/epoch - 5ms/step\n"
          ]
        },
        {
          "output_type": "display_data",
          "data": {
            "text/plain": [
              "<Figure size 432x288 with 1 Axes>"
            ],
            "image/png": "[encoded data removed]"
          },
          "metadata": {
            "needs_background": "light"
          }
        }
      ]
    }
  ]
}