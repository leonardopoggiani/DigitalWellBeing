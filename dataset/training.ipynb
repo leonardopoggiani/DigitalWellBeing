{
  "nbformat": 4,
  "nbformat_minor": 0,
  "metadata": {
    "colab": {
      "name": "training.ipynb",
      "provenance": [],
      "collapsed_sections": []
    },
    "kernelspec": {
      "name": "python3",
      "display_name": "Python 3"
    },
    "language_info": {
      "name": "python"
    }
  },
  "cells": [
    {
      "cell_type": "code",
      "execution_count": 9,
      "metadata": {
        "id": "q4N_SNq7G7G9"
      },
      "outputs": [],
      "source": [
        "import tensorflow as tf\n",
        "\n",
        "from tensorflow.keras import datasets, layers, models\n",
        "import matplotlib.pyplot as plt\n",
        "import pandas as pd\n",
        "from sklearn.model_selection import train_test_split\n",
        "import numpy as np"
      ]
    },
    {
      "cell_type": "code",
      "source": [
        "accelerometer = pd.read_csv(\"SensorData_Acc_0.csv\")\n",
        "#rotation = pd.read_csv(\"SensorData_Rot_0.csv\")\n",
        "\n",
        "del accelerometer[\"Unnamed: 5\"]\n",
        "\n",
        "print(accelerometer)\n",
        "\n",
        "accelerometer.columns = [\"ax\", \"ay\", \"az\", \"timestamp\", \"label\"]\n",
        "accelerometer.index = accelerometer[\"timestamp\"]\n",
        "\n",
        "#rotation.columns = [\"rx\", \"ry\", \"rz\", \"timestamp\", \"label\"]\n",
        "#rotation.index = rotation[\"timestamp\"]\n",
        "\n",
        "#accelerometer.join(rotation, lsuffix='_caller', rsuffix='_other')\n",
        "\n",
        "# 50 hz sampling rate, 600 sample/seconds, discard first two seconds of data\n",
        "N_FIRST = 600 * 2\n",
        "accelerometer = accelerometer.iloc[N_FIRST: , :]\n",
        "\n",
        "N_FIRST = 600 * 2\n",
        "#rotation = rotation.iloc[N_FIRST: , :]\n",
        "\n",
        "# Number of rows to drop\n",
        "N_LAST = 600\n",
        " \n",
        "# Removing last n rows\n",
        "accelerometer = accelerometer.iloc[:-N_LAST]\n",
        "\n",
        "print(accelerometer.shape)\n",
        "\n",
        "mapping = {'PICKUP': 1, 'PUTDOWN': 2, 'OTHER': 3}\n",
        "accelerometer.replace({'label': mapping})\n",
        "\n",
        "accelerometer.label = [mapping[item] for item in accelerometer.label]\n",
        "\n",
        "print(accelerometer)\n",
        "\n",
        "training_data, testing_data = train_test_split(accelerometer, test_size=0.2, random_state=25)\n",
        "\n",
        "training_labels = training_data[\"label\"]\n",
        "del training_data[\"label\"]\n",
        "\n",
        "testing_labels = testing_data[\"label\"]\n",
        "del testing_data[\"label\"]\n",
        "\n",
        "print(f\"No. of training examples: {training_data.shape[0]}\")\n",
        "print(f\"No. of testing examples: {testing_data.shape[0]}\")\n",
        "\n",
        "print(training_data)"
      ],
      "metadata": {
        "colab": {
          "base_uri": "https://localhost:8080/"
        },
        "id": "PK7E8ZJ6Iv8s",
        "outputId": "354febf9-776f-4d91-fc2d-3b588535ad3b"
      },
      "execution_count": 10,
      "outputs": [
        {
          "output_type": "stream",
          "name": "stdout",
          "text": [
            "       -2.142  2.952  8.848  963299515240  PUTDOWN\n",
            "0      -2.166  3.005  8.857  9.633026e+11  PUTDOWN\n",
            "1      -2.185  3.067  8.834  9.633115e+11  PUTDOWN\n",
            "2      -2.201  3.182  8.730  9.633215e+11  PUTDOWN\n",
            "3      -2.188  3.283  8.615  9.633315e+11  PUTDOWN\n",
            "4      -2.222  3.374  8.545  9.633426e+11  PUTDOWN\n",
            "...       ...    ...    ...           ...      ...\n",
            "11312  -2.710  4.588  7.981  1.117767e+12    OTHER\n",
            "11313  -2.642  4.362  8.120  1.117777e+12    OTHER\n",
            "11314  -2.580  4.129  8.308  1.117787e+12    OTHER\n",
            "11315  -2.543  3.918  8.462  1.117797e+12    OTHER\n",
            "11316  -2.529  3.000    NaN           NaN      NaN\n",
            "\n",
            "[11317 rows x 5 columns]\n",
            "(9517, 5)\n",
            "                 ax     ay     az     timestamp  label\n",
            "timestamp                                             \n",
            "9.845011e+11  1.271  2.204  7.388  9.845011e+11      2\n",
            "9.845111e+11  1.539  2.232  7.024  9.845111e+11      2\n",
            "9.845211e+11  1.923  2.468  6.737  9.845211e+11      2\n",
            "9.845312e+11  2.341  2.649  5.985  9.845312e+11      2\n",
            "9.845411e+11  2.777  2.787  5.001  9.845411e+11      2\n",
            "...             ...    ...    ...           ...    ...\n",
            "1.107478e+12 -3.737 -7.099  2.281  1.107478e+12      2\n",
            "1.107487e+12 -3.882 -6.757  2.769  1.107487e+12      2\n",
            "1.107498e+12 -4.542 -5.993  2.350  1.107498e+12      2\n",
            "1.107507e+12 -5.490 -3.869  0.863  1.107507e+12      2\n",
            "1.107518e+12 -5.803 -0.619 -0.868  1.107518e+12      2\n",
            "\n",
            "[9517 rows x 5 columns]\n",
            "No. of training examples: 7613\n",
            "No. of testing examples: 1904\n",
            "                  ax      ay      az     timestamp\n",
            "timestamp                                         \n",
            "1.098328e+12   8.269 -10.535   4.115  1.098328e+12\n",
            "1.054772e+12  -0.062   4.944   5.627  1.054772e+12\n",
            "1.014952e+12  -3.169   6.727   6.681  1.014952e+12\n",
            "1.023842e+12  12.926  -5.566   4.579  1.023842e+12\n",
            "1.051041e+12  -0.042  -3.943  -1.602  1.051041e+12\n",
            "...              ...     ...     ...           ...\n",
            "1.011922e+12  -0.662   7.113   5.488  1.011922e+12\n",
            "1.094094e+12   1.159  -0.412  10.173  1.094094e+12\n",
            "1.031152e+12   6.927  -8.979  -2.115  1.031152e+12\n",
            "1.068102e+12 -12.062  -3.684   3.732  1.068102e+12\n",
            "1.094717e+12  -0.149   2.059   5.975  1.094717e+12\n",
            "\n",
            "[7613 rows x 4 columns]\n"
          ]
        }
      ]
    },
    {
      "cell_type": "markdown",
      "source": [
        "# New Section"
      ],
      "metadata": {
        "id": "y-Q6LcoZcVXy"
      }
    },
    {
      "cell_type": "code",
      "source": [
        "model = models.Sequential()\n",
        "model.add(tf.keras.layers.Dense(training_data.shape[0], input_shape=(training_data.shape[1],), activation='sigmoid'))"
      ],
      "metadata": {
        "id": "nPBvQPE4G_41"
      },
      "execution_count": 11,
      "outputs": []
    },
    {
      "cell_type": "code",
      "source": [
        "model.compile(optimizer='adam',\n",
        "              loss=tf.keras.losses.SparseCategoricalCrossentropy(from_logits=True),\n",
        "              metrics=['accuracy'])\n",
        "\n",
        "history = model.fit(training_data, training_labels, epochs=50, validation_data=(testing_data, testing_labels))\n",
        "model.save(\".\")"
      ],
      "metadata": {
        "id": "WVg32RRFHk6v",
        "colab": {
          "base_uri": "https://localhost:8080/"
        },
        "outputId": "e29fdc39-81e1-4090-8a26-cd0b24cf0e5a"
      },
      "execution_count": 12,
      "outputs": [
        {
          "output_type": "stream",
          "name": "stdout",
          "text": [
            "Epoch 1/50\n"
          ]
        },
        {
          "output_type": "stream",
          "name": "stderr",
          "text": [
            "/usr/local/lib/python3.7/dist-packages/tensorflow/python/util/dispatch.py:1082: UserWarning: \"`sparse_categorical_crossentropy` received `from_logits=True`, but the `output` argument was produced by a sigmoid or softmax activation and thus does not represent logits. Was this intended?\"\n",
            "  return dispatch_target(*args, **kwargs)\n"
          ]
        },
        {
          "output_type": "stream",
          "name": "stdout",
          "text": [
            "236/238 [============================>.] - ETA: 0s - loss: 3402295296.0000 - accuracy: 0.5907"
          ]
        },
        {
          "output_type": "stream",
          "name": "stderr",
          "text": [
            "/usr/local/lib/python3.7/dist-packages/tensorflow/python/util/dispatch.py:1082: UserWarning: \"`sparse_categorical_crossentropy` received `from_logits=True`, but the `output` argument was produced by a sigmoid or softmax activation and thus does not represent logits. Was this intended?\"\n",
            "  return dispatch_target(*args, **kwargs)\n"
          ]
        },
        {
          "output_type": "stream",
          "name": "stdout",
          "text": [
            "\b\b\b\b\b\b\b\b\b\b\b\b\b\b\b\b\b\b\b\b\b\b\b\b\b\b\b\b\b\b\b\b\b\b\b\b\b\b\b\b\b\b\b\b\b\b\b\b\b\b\b\b\b\b\b\b\b\b\b\b\b\b\b\b\b\b\b\b\b\b\b\b\b\b\b\b\b\b\b\b\b\b\b\b\b\b\b\b\b\b\b\b\b\r238/238 [==============================] - 2s 6ms/step - loss: 3375515648.0000 - accuracy: 0.5921 - val_loss: 309480768.0000 - val_accuracy: 0.1008\n",
            "Epoch 2/50\n",
            "238/238 [==============================] - 1s 5ms/step - loss: 123241928.0000 - accuracy: 0.6988 - val_loss: 111277864.0000 - val_accuracy: 0.8051\n",
            "Epoch 3/50\n",
            "238/238 [==============================] - 1s 5ms/step - loss: 145621648.0000 - accuracy: 0.7021 - val_loss: 389044800.0000 - val_accuracy: 0.8051\n",
            "Epoch 4/50\n",
            "238/238 [==============================] - 1s 5ms/step - loss: 207222368.0000 - accuracy: 0.7066 - val_loss: 153146400.0000 - val_accuracy: 0.8051\n",
            "Epoch 5/50\n",
            "238/238 [==============================] - 1s 5ms/step - loss: 141576224.0000 - accuracy: 0.6974 - val_loss: 34287176.0000 - val_accuracy: 0.0940\n",
            "Epoch 6/50\n",
            "238/238 [==============================] - 1s 5ms/step - loss: 153315808.0000 - accuracy: 0.6980 - val_loss: 132726264.0000 - val_accuracy: 0.8051\n",
            "Epoch 7/50\n",
            "238/238 [==============================] - 1s 5ms/step - loss: 180758000.0000 - accuracy: 0.6959 - val_loss: 47137236.0000 - val_accuracy: 0.8051\n",
            "Epoch 8/50\n",
            "238/238 [==============================] - 1s 5ms/step - loss: 211728208.0000 - accuracy: 0.7091 - val_loss: 473916576.0000 - val_accuracy: 0.0940\n",
            "Epoch 9/50\n",
            "238/238 [==============================] - 1s 5ms/step - loss: 178828928.0000 - accuracy: 0.6943 - val_loss: 54603000.0000 - val_accuracy: 0.8051\n",
            "Epoch 10/50\n",
            "238/238 [==============================] - 1s 5ms/step - loss: 155486176.0000 - accuracy: 0.7024 - val_loss: 185926864.0000 - val_accuracy: 0.0940\n",
            "Epoch 11/50\n",
            "238/238 [==============================] - 1s 5ms/step - loss: 195843376.0000 - accuracy: 0.6983 - val_loss: 397167744.0000 - val_accuracy: 0.8051\n",
            "Epoch 12/50\n",
            "238/238 [==============================] - 1s 5ms/step - loss: 194755280.0000 - accuracy: 0.7034 - val_loss: 224743632.0000 - val_accuracy: 0.8051\n",
            "Epoch 13/50\n",
            "238/238 [==============================] - 1s 5ms/step - loss: 176950000.0000 - accuracy: 0.7012 - val_loss: 141821504.0000 - val_accuracy: 0.8051\n",
            "Epoch 14/50\n",
            "238/238 [==============================] - 1s 5ms/step - loss: 211151568.0000 - accuracy: 0.7018 - val_loss: 254434112.0000 - val_accuracy: 0.8051\n",
            "Epoch 15/50\n",
            "238/238 [==============================] - 1s 5ms/step - loss: 134645376.0000 - accuracy: 0.6991 - val_loss: 101361360.0000 - val_accuracy: 0.8051\n",
            "Epoch 16/50\n",
            "238/238 [==============================] - 1s 5ms/step - loss: 180614560.0000 - accuracy: 0.6928 - val_loss: 199071504.0000 - val_accuracy: 0.8051\n",
            "Epoch 17/50\n",
            "238/238 [==============================] - 2s 7ms/step - loss: 176291136.0000 - accuracy: 0.6979 - val_loss: 146266336.0000 - val_accuracy: 0.8051\n",
            "Epoch 18/50\n",
            "238/238 [==============================] - 2s 8ms/step - loss: 182369904.0000 - accuracy: 0.7067 - val_loss: 114363048.0000 - val_accuracy: 0.8051\n",
            "Epoch 19/50\n",
            "238/238 [==============================] - 2s 9ms/step - loss: 171152848.0000 - accuracy: 0.7034 - val_loss: 68672736.0000 - val_accuracy: 0.8051\n",
            "Epoch 20/50\n",
            "238/238 [==============================] - 2s 8ms/step - loss: 185186240.0000 - accuracy: 0.6943 - val_loss: 107449440.0000 - val_accuracy: 0.8051\n",
            "Epoch 21/50\n",
            "238/238 [==============================] - 1s 5ms/step - loss: 194487632.0000 - accuracy: 0.7031 - val_loss: 274797824.0000 - val_accuracy: 0.8051\n",
            "Epoch 22/50\n",
            "238/238 [==============================] - 1s 5ms/step - loss: 185952256.0000 - accuracy: 0.7071 - val_loss: 126049424.0000 - val_accuracy: 0.8051\n",
            "Epoch 23/50\n",
            "238/238 [==============================] - 1s 5ms/step - loss: 173186320.0000 - accuracy: 0.6966 - val_loss: 90004592.0000 - val_accuracy: 0.8051\n",
            "Epoch 24/50\n",
            "238/238 [==============================] - 1s 5ms/step - loss: 146676640.0000 - accuracy: 0.7034 - val_loss: 243000128.0000 - val_accuracy: 0.1008\n",
            "Epoch 25/50\n",
            "238/238 [==============================] - 1s 5ms/step - loss: 183030864.0000 - accuracy: 0.7013 - val_loss: 87179680.0000 - val_accuracy: 0.8051\n",
            "Epoch 26/50\n",
            "238/238 [==============================] - 1s 5ms/step - loss: 170343792.0000 - accuracy: 0.7012 - val_loss: 158854304.0000 - val_accuracy: 0.8051\n",
            "Epoch 27/50\n",
            "238/238 [==============================] - 1s 5ms/step - loss: 208590192.0000 - accuracy: 0.7047 - val_loss: 8323715.0000 - val_accuracy: 0.0940\n",
            "Epoch 28/50\n",
            "238/238 [==============================] - 1s 5ms/step - loss: 153733072.0000 - accuracy: 0.7017 - val_loss: 309262432.0000 - val_accuracy: 0.0940\n",
            "Epoch 29/50\n",
            "238/238 [==============================] - 1s 5ms/step - loss: 206922128.0000 - accuracy: 0.7018 - val_loss: 23961536.0000 - val_accuracy: 0.8051\n",
            "Epoch 30/50\n",
            "238/238 [==============================] - 1s 5ms/step - loss: 229671056.0000 - accuracy: 0.6966 - val_loss: 523556448.0000 - val_accuracy: 0.8051\n",
            "Epoch 31/50\n",
            "238/238 [==============================] - 1s 5ms/step - loss: 183662144.0000 - accuracy: 0.6985 - val_loss: 219571504.0000 - val_accuracy: 0.8051\n",
            "Epoch 32/50\n",
            "238/238 [==============================] - 1s 5ms/step - loss: 197073792.0000 - accuracy: 0.7013 - val_loss: 47030632.0000 - val_accuracy: 0.1008\n",
            "Epoch 33/50\n",
            "238/238 [==============================] - 1s 5ms/step - loss: 156464704.0000 - accuracy: 0.6937 - val_loss: 210728912.0000 - val_accuracy: 0.8051\n",
            "Epoch 34/50\n",
            "238/238 [==============================] - 1s 5ms/step - loss: 151880496.0000 - accuracy: 0.6967 - val_loss: 253180688.0000 - val_accuracy: 0.8051\n",
            "Epoch 35/50\n",
            "238/238 [==============================] - 1s 5ms/step - loss: 144965856.0000 - accuracy: 0.6978 - val_loss: 75904096.0000 - val_accuracy: 0.8051\n",
            "Epoch 36/50\n",
            "238/238 [==============================] - 1s 5ms/step - loss: 144968288.0000 - accuracy: 0.6976 - val_loss: 83545080.0000 - val_accuracy: 0.8051\n",
            "Epoch 37/50\n",
            "238/238 [==============================] - 1s 5ms/step - loss: 165745680.0000 - accuracy: 0.6959 - val_loss: 168128064.0000 - val_accuracy: 0.8051\n",
            "Epoch 38/50\n",
            "238/238 [==============================] - 1s 5ms/step - loss: 201352928.0000 - accuracy: 0.7039 - val_loss: 386731136.0000 - val_accuracy: 0.8051\n",
            "Epoch 39/50\n",
            "238/238 [==============================] - 1s 5ms/step - loss: 179343520.0000 - accuracy: 0.7038 - val_loss: 128988648.0000 - val_accuracy: 0.1008\n",
            "Epoch 40/50\n",
            "238/238 [==============================] - 1s 5ms/step - loss: 177096096.0000 - accuracy: 0.6992 - val_loss: 153242544.0000 - val_accuracy: 0.8051\n",
            "Epoch 41/50\n",
            "238/238 [==============================] - 1s 5ms/step - loss: 182225296.0000 - accuracy: 0.6974 - val_loss: 167169152.0000 - val_accuracy: 0.8051\n",
            "Epoch 42/50\n",
            "238/238 [==============================] - 1s 5ms/step - loss: 189576752.0000 - accuracy: 0.6976 - val_loss: 387075168.0000 - val_accuracy: 0.8051\n",
            "Epoch 43/50\n",
            "238/238 [==============================] - 1s 5ms/step - loss: 137590016.0000 - accuracy: 0.7013 - val_loss: 190848128.0000 - val_accuracy: 0.8051\n",
            "Epoch 44/50\n",
            "238/238 [==============================] - 1s 5ms/step - loss: 242524976.0000 - accuracy: 0.7018 - val_loss: 161839728.0000 - val_accuracy: 0.8051\n",
            "Epoch 45/50\n",
            "238/238 [==============================] - 1s 5ms/step - loss: 147473424.0000 - accuracy: 0.7029 - val_loss: 25616990.0000 - val_accuracy: 0.8051\n",
            "Epoch 46/50\n",
            "238/238 [==============================] - 1s 5ms/step - loss: 137789072.0000 - accuracy: 0.6999 - val_loss: 399569472.0000 - val_accuracy: 0.1008\n",
            "Epoch 47/50\n",
            "238/238 [==============================] - 1s 5ms/step - loss: 208768144.0000 - accuracy: 0.7005 - val_loss: 331245344.0000 - val_accuracy: 0.8051\n",
            "Epoch 48/50\n",
            "238/238 [==============================] - 1s 5ms/step - loss: 151098464.0000 - accuracy: 0.7025 - val_loss: 250908800.0000 - val_accuracy: 0.8051\n",
            "Epoch 49/50\n",
            "238/238 [==============================] - 1s 5ms/step - loss: 158406912.0000 - accuracy: 0.6988 - val_loss: 134872176.0000 - val_accuracy: 0.8051\n",
            "Epoch 50/50\n",
            "238/238 [==============================] - 1s 5ms/step - loss: 182953680.0000 - accuracy: 0.7055 - val_loss: 259854624.0000 - val_accuracy: 0.8051\n",
            "INFO:tensorflow:Assets written to: ./assets\n"
          ]
        }
      ]
    },
    {
      "cell_type": "code",
      "source": [
        "plt.plot(history.history['accuracy'], label='accuracy')\n",
        "plt.plot(history.history['val_accuracy'], label = 'val_accuracy')\n",
        "plt.xlabel('Epoch')\n",
        "plt.ylabel('Accuracy')\n",
        "plt.ylim([0.5, 1])\n",
        "plt.legend(loc='lower right')\n",
        "\n",
        "test_loss, test_acc = model.evaluate(testing_data,  testing_labels, verbose=2)"
      ],
      "metadata": {
        "id": "_iY4fZeLd32b",
        "colab": {
          "base_uri": "https://localhost:8080/",
          "height": 301
        },
        "outputId": "460868f6-7606-4f34-a5d5-87858c9c81a0"
      },
      "execution_count": 13,
      "outputs": [
        {
          "output_type": "stream",
          "name": "stdout",
          "text": [
            "60/60 - 0s - loss: 259854624.0000 - accuracy: 0.8051 - 189ms/epoch - 3ms/step\n"
          ]
        },
        {
          "output_type": "display_data",
          "data": {
            "text/plain": [
              "<Figure size 432x288 with 1 Axes>"
            ],
            "image/png": "[encoded data removed]"
          },
          "metadata": {
            "needs_background": "light"
          }
        }
      ]
    },
    {
      "cell_type": "code",
      "source": [
        "# Convert the model\n",
        "converter = tf.lite.TFLiteConverter.from_saved_model(\".\") # path to the SavedModel directory\n",
        "tflite_model = converter.convert()\n",
        "\n",
        "# Save the model.\n",
        "with open('model.tflite', 'wb') as f:\n",
        "  f.write(tflite_model)"
      ],
      "metadata": {
        "colab": {
          "base_uri": "https://localhost:8080/"
        },
        "id": "KE_DshnsvHiY",
        "outputId": "a917fd75-0542-49fc-e7ab-c448056b6c45"
      },
      "execution_count": 16,
      "outputs": [
        {
          "output_type": "stream",
          "name": "stderr",
          "text": [
            "WARNING:absl:Buffer deduplication procedure will be skipped when flatbuffer library is not properly loaded\n"
          ]
        }
      ]
    }
  ]
}